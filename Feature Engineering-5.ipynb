{
 "cells": [
  {
   "cell_type": "markdown",
   "id": "b0d68546-960d-4f9d-80a8-55cf03e34153",
   "metadata": {},
   "source": [
    "# Q1. What is the difference between Ordinal Encoding and Label Encoding? Provide an example of when you might choose one over the other."
   ]
  },
  {
   "cell_type": "markdown",
   "id": "fa3b2dd1-3a42-4791-b3a8-7484a622d408",
   "metadata": {},
   "source": [
    "# Ans: 1 \n",
    "\n",
    "\n",
    "Ordinal Encoding and Label Encoding are both techniques used in machine learning to convert categorical data into numerical form, making it suitable for algorithms that require numerical input. However, they are used in different scenarios and have some distinctions:\n",
    "\n",
    "**Label Encoding:**\n",
    "\n",
    "Label Encoding involves assigning a unique numerical label to each unique category in a categorical feature. It's typically used for nominal (unordered) categorical variables where there is no inherent order or ranking among the categories. For instance, if you have a categorical feature \"Color\" with values \"Red\", \"Green\", and \"Blue\", you can label encode them as 0, 1, and 2 respectively.\n",
    "\n",
    "Example:\n"
   ]
  },
  {
   "cell_type": "code",
   "execution_count": 5,
   "id": "8c68310d-67c8-415e-abfd-1bc2bb661979",
   "metadata": {},
   "outputs": [],
   "source": [
    "Color: ['Red', 'Green', 'Blue', 'Green', 'Red']\n",
    "Label_Encoded: [0, 1, 2, 1, 0]"
   ]
  },
  {
   "cell_type": "markdown",
   "id": "38682923-2c73-45aa-bbf9-f1aa5cc75a6f",
   "metadata": {},
   "source": [
    "**Ordinal Encoding:**\n",
    "\n",
    "Ordinal Encoding is used when the categorical variable has an inherent order or rank among its categories. This method assigns numerical values according to the order/rank of the categories. It is suitable for ordinal categorical variables. For instance, education levels \"High School\", \"Bachelor's\", \"Master's\", and \"Ph.D.\" have a clear order.\n",
    "\n",
    "Example:"
   ]
  },
  {
   "cell_type": "code",
   "execution_count": 6,
   "id": "68e96127-41d8-4e0a-88b0-c6a7fdb03c81",
   "metadata": {},
   "outputs": [],
   "source": [
    "Education: ['Bachelor\\'s', 'Master\\'s', 'High School', 'Ph.D.', 'Bachelor\\'s']\n",
    "Ordinal_Encoded: [1, 2, 0, 3, 1]"
   ]
  },
  {
   "cell_type": "markdown",
   "id": "08ce6d58-8096-4350-9523-cfcb2148b3f7",
   "metadata": {},
   "source": [
    "**When to Choose Each:*\n",
    "\n",
    "**Label Encoding:** Choose label encoding when dealing with nominal categorical features without any meaningful order. For instance, when converting country names or names of products into numerical values.\n",
    "\n",
    "**Ordinal Encoding:** Choose ordinal encoding when dealing with ordinal categorical features that have a clear order. This can include features like education levels, satisfaction ratings (low, medium, high), or socioeconomic status (low, middle, high)."
   ]
  },
  {
   "cell_type": "code",
   "execution_count": null,
   "id": "0c1f0587-5473-44f3-8a0e-72f249f72f40",
   "metadata": {},
   "outputs": [],
   "source": []
  },
  {
   "cell_type": "markdown",
   "id": "4c1101ba-eb85-4689-80a3-48a9d8167864",
   "metadata": {},
   "source": [
    "# Q2. Explain how Target Guided Ordinal Encoding works and provide an example of when you might use it in a machine learning project."
   ]
  },
  {
   "cell_type": "markdown",
   "id": "d7bffe9d-40c5-4ddf-8419-399b737673ab",
   "metadata": {},
   "source": [
    "# Ans: 2 \n",
    "\n",
    "\n",
    "Target Guided Ordinal Encoding is a technique used to convert categorical variables into ordinal numerical values based on the relationship between the categorical variable and the target variable. It's particularly useful when you have a categorical feature with a large number of categories and you want to capture the relationship between the categories and the target variable in a meaningful way.\n",
    "\n",
    "Here's how Target Guided Ordinal Encoding works:\n",
    "\n",
    "- **Calculate the Mean/Median of Target Variable by Category:** For each category in the categorical variable, calculate the mean or median of the target variable. This gives you an idea of how the target variable's value varies across different categories.\n",
    "\n",
    "- **Order Categories by Mean/Median Value:** Order the categories based on their mean or median value of the target variable. This establishes an ordinal relationship between the categories, where the category with the highest mean/median value is assigned the highest numerical value, and so on.\n",
    "\n",
    "- **Assign Ordinal Labels:** Assign ordinal labels (numeric values) to the ordered categories based on their ranking. The category with the highest mean/median value gets the highest label, the next highest category gets the next label, and so on.\n",
    "\n",
    "- **Replace Original Categories with Ordinal Labels:** Replace the original categorical values with the corresponding ordinal labels in the dataset.\n",
    "\n",
    "**Here's an example to illustrate this:**"
   ]
  },
  {
   "cell_type": "code",
   "execution_count": 9,
   "id": "f9a89732-6b9b-47e4-8256-59987b2e8f97",
   "metadata": {},
   "outputs": [
    {
     "data": {
      "text/html": [
       "<div>\n",
       "<style scoped>\n",
       "    .dataframe tbody tr th:only-of-type {\n",
       "        vertical-align: middle;\n",
       "    }\n",
       "\n",
       "    .dataframe tbody tr th {\n",
       "        vertical-align: top;\n",
       "    }\n",
       "\n",
       "    .dataframe thead th {\n",
       "        text-align: right;\n",
       "    }\n",
       "</style>\n",
       "<table border=\"1\" class=\"dataframe\">\n",
       "  <thead>\n",
       "    <tr style=\"text-align: right;\">\n",
       "      <th></th>\n",
       "      <th>City</th>\n",
       "      <th>Churn</th>\n",
       "      <th>City_Encoded</th>\n",
       "    </tr>\n",
       "  </thead>\n",
       "  <tbody>\n",
       "    <tr>\n",
       "      <th>0</th>\n",
       "      <td>New York</td>\n",
       "      <td>1</td>\n",
       "      <td>3</td>\n",
       "    </tr>\n",
       "    <tr>\n",
       "      <th>1</th>\n",
       "      <td>Los Angeles</td>\n",
       "      <td>0</td>\n",
       "      <td>0</td>\n",
       "    </tr>\n",
       "    <tr>\n",
       "      <th>2</th>\n",
       "      <td>Chicago</td>\n",
       "      <td>1</td>\n",
       "      <td>2</td>\n",
       "    </tr>\n",
       "    <tr>\n",
       "      <th>3</th>\n",
       "      <td>San Francisco</td>\n",
       "      <td>0</td>\n",
       "      <td>1</td>\n",
       "    </tr>\n",
       "    <tr>\n",
       "      <th>4</th>\n",
       "      <td>Chicago</td>\n",
       "      <td>0</td>\n",
       "      <td>2</td>\n",
       "    </tr>\n",
       "    <tr>\n",
       "      <th>5</th>\n",
       "      <td>New York</td>\n",
       "      <td>1</td>\n",
       "      <td>3</td>\n",
       "    </tr>\n",
       "  </tbody>\n",
       "</table>\n",
       "</div>"
      ],
      "text/plain": [
       "            City  Churn  City_Encoded\n",
       "0       New York      1             3\n",
       "1    Los Angeles      0             0\n",
       "2        Chicago      1             2\n",
       "3  San Francisco      0             1\n",
       "4        Chicago      0             2\n",
       "5       New York      1             3"
      ]
     },
     "execution_count": 9,
     "metadata": {},
     "output_type": "execute_result"
    }
   ],
   "source": [
    "import pandas as pd\n",
    "from sklearn.model_selection import train_test_split\n",
    "\n",
    "# Sample data\n",
    "data = {\n",
    "    'City': ['New York', 'Los Angeles', 'Chicago', 'San Francisco', 'Chicago', 'New York'],\n",
    "    'Churn': [1, 0, 1, 0, 0, 1]\n",
    "}\n",
    "\n",
    "df = pd.DataFrame(data)\n",
    "\n",
    "# Calculate mean Churn rate for each city\n",
    "city_churn_rates = df.groupby('City')['Churn'].mean().sort_values()\n",
    "\n",
    "# Create a mapping of cities to ordinal values based on churn rates\n",
    "city_mapping = {city: i for i, city in enumerate(city_churn_rates.index)}\n",
    "\n",
    "# Apply the mapping to the 'City' column\n",
    "df['City_Encoded'] = df['City'].map(city_mapping)\n",
    "\n",
    "df"
   ]
  },
  {
   "cell_type": "markdown",
   "id": "c8da56ea-0644-46b9-85e1-326482497004",
   "metadata": {
    "tags": []
   },
   "source": [
    "In this example, we have a small dataset with a categorical feature 'City' and a binary target 'Churn'. We want to encode the 'City' feature using Target Guided Ordinal Encoding based on the mean churn rates of each city.\n",
    "\n",
    "Calculate the mean churn rate for each city:\n",
    "\n",
    "New York: (1 + 1) / 2 = 0.5\n",
    "\n",
    "Los Angeles: 0 / 1 = 0\n",
    "\n",
    "Chicago: (1 + 0) / 2 = 0.5\n",
    "\n",
    "San Francisco: 0 / 1 = 0\n",
    "\n",
    "\n",
    "Sort cities based on mean churn rates: Los Angeles, San Francisco, New York, Chicago.\n",
    "\n",
    "Assign ordinal values to cities: Los Angeles (0), San Francisco (1), New York (2), Chicago (3).\n",
    "\n",
    "Apply the mapping to the 'City' column, creating a new column 'City_Encoded'.\n",
    "\n",
    "#\n",
    "\n",
    "**When to use Target Guided Ordinal Encoding:**\n",
    "\n",
    "You might use Target Guided Ordinal Encoding when you have a categorical feature that seems to have a strong impact on the target variable. For instance, in a customer churn prediction scenario, if you observe that certain cities have consistently higher or lower churn rates, encoding the city variable using this technique could potentially improve the predictive power of your model."
   ]
  },
  {
   "cell_type": "code",
   "execution_count": null,
   "id": "76eb323d-3fda-48db-9649-c453baaab2d5",
   "metadata": {},
   "outputs": [],
   "source": []
  },
  {
   "cell_type": "markdown",
   "id": "6eb1a084-5f94-4bda-9b1c-60909f256b7b",
   "metadata": {},
   "source": [
    "# Q3. Define covariance and explain why it is important in statistical analysis. How is covariance calculated?"
   ]
  },
  {
   "cell_type": "markdown",
   "id": "a057f92b-fb9f-45eb-a90a-66ad044af025",
   "metadata": {
    "tags": []
   },
   "source": [
    "# Ans: 3 \n",
    "\n",
    "\n",
    "Covariance is a statistical measure that quantifies the degree to which two random variables change together. In other words, it measures the relationship between the movements of two variables. More specifically, covariance indicates whether an increase in one variable corresponds to an increase, decrease, or no change in the other variable.\n",
    "\n",
    "Covariance is important in statistical analysis for several reasons:\n",
    "\n",
    "- **Relationship Assessment:** Covariance helps us understand the direction of the relationship between two variables. A positive covariance indicates that the variables tend to increase together, a negative covariance indicates that one tends to increase as the other decreases, and a covariance close to zero indicates little to no linear relationship.\n",
    "\n",
    "- **Portfolio Diversification:** In finance, covariance is crucial for understanding the relationship between different assets. Positive covariance between assets implies that they tend to move in the same direction, which might not be ideal for diversifying risk in a portfolio.\n",
    "\n",
    "- **Regression Analysis:** Covariance is used in regression analysis to estimate the strength and direction of the linear relationship between the independent and dependent variables.\n",
    "\n",
    "- **Machine Learning:** Covariance matrices are used in multivariate statistical techniques and machine learning algorithms like Principal Component Analysis (PCA) and Gaussian Naive Bayes.\n",
    "\n",
    "- **Data Preprocessing:** Covariance can be used to identify redundant or highly correlated features, which can be useful in feature selection or dimensionality reduction.\n",
    "\n",
    "**Calculation of Covariance in Python:**\n",
    "\n",
    "In Python, you can calculate the covariance between two variables using the numpy library's cov function. Here's how you would calculate the covariance between two arrays X and Y:\n"
   ]
  },
  {
   "cell_type": "code",
   "execution_count": 10,
   "id": "10d4f8bb-e48f-4d2d-9e31-96a125375855",
   "metadata": {},
   "outputs": [
    {
     "name": "stdout",
     "output_type": "stream",
     "text": [
      "Covariance matrix:\n",
      "[[ 2.5 -2.5]\n",
      " [-2.5  2.5]]\n",
      "Covariance between X and Y: -2.5\n"
     ]
    }
   ],
   "source": [
    "import numpy as np\n",
    "\n",
    "X = np.array([1, 2, 3, 4, 5])\n",
    "Y = np.array([5, 4, 3, 2, 1])\n",
    "\n",
    "cov_matrix = np.cov(X, Y)\n",
    "covariance = cov_matrix[0, 1]\n",
    "\n",
    "print(\"Covariance matrix:\")\n",
    "print(cov_matrix)\n",
    "print(\"Covariance between X and Y:\", covariance)"
   ]
  },
  {
   "cell_type": "code",
   "execution_count": null,
   "id": "cc372509-deb0-461d-a403-8d0b2b0fe2bf",
   "metadata": {},
   "outputs": [],
   "source": []
  },
  {
   "cell_type": "markdown",
   "id": "7df5b3c0-614c-4014-b318-dd7d623ba5d1",
   "metadata": {},
   "source": [
    "# Q4. For a dataset with the following categorical variables: Color (red, green, blue), Size (small, medium, large), and Material (wood, metal, plastic), perform label encoding using Python's scikit-learn library. Show your code and explain the output."
   ]
  },
  {
   "cell_type": "code",
   "execution_count": 12,
   "id": "383f56e4-c57f-4e2d-aab9-9a82d7f898e1",
   "metadata": {},
   "outputs": [
    {
     "data": {
      "text/html": [
       "<div>\n",
       "<style scoped>\n",
       "    .dataframe tbody tr th:only-of-type {\n",
       "        vertical-align: middle;\n",
       "    }\n",
       "\n",
       "    .dataframe tbody tr th {\n",
       "        vertical-align: top;\n",
       "    }\n",
       "\n",
       "    .dataframe thead th {\n",
       "        text-align: right;\n",
       "    }\n",
       "</style>\n",
       "<table border=\"1\" class=\"dataframe\">\n",
       "  <thead>\n",
       "    <tr style=\"text-align: right;\">\n",
       "      <th></th>\n",
       "      <th>Color</th>\n",
       "      <th>Size</th>\n",
       "      <th>Material</th>\n",
       "      <th>Color_encoded</th>\n",
       "      <th>Size_encoded</th>\n",
       "      <th>Material_encoded</th>\n",
       "    </tr>\n",
       "  </thead>\n",
       "  <tbody>\n",
       "    <tr>\n",
       "      <th>0</th>\n",
       "      <td>red</td>\n",
       "      <td>small</td>\n",
       "      <td>wood</td>\n",
       "      <td>2</td>\n",
       "      <td>2</td>\n",
       "      <td>2</td>\n",
       "    </tr>\n",
       "    <tr>\n",
       "      <th>1</th>\n",
       "      <td>green</td>\n",
       "      <td>medium</td>\n",
       "      <td>metal</td>\n",
       "      <td>1</td>\n",
       "      <td>1</td>\n",
       "      <td>0</td>\n",
       "    </tr>\n",
       "    <tr>\n",
       "      <th>2</th>\n",
       "      <td>blue</td>\n",
       "      <td>large</td>\n",
       "      <td>plastic</td>\n",
       "      <td>0</td>\n",
       "      <td>0</td>\n",
       "      <td>1</td>\n",
       "    </tr>\n",
       "    <tr>\n",
       "      <th>3</th>\n",
       "      <td>green</td>\n",
       "      <td>medium</td>\n",
       "      <td>wood</td>\n",
       "      <td>1</td>\n",
       "      <td>1</td>\n",
       "      <td>2</td>\n",
       "    </tr>\n",
       "    <tr>\n",
       "      <th>4</th>\n",
       "      <td>red</td>\n",
       "      <td>small</td>\n",
       "      <td>metal</td>\n",
       "      <td>2</td>\n",
       "      <td>2</td>\n",
       "      <td>0</td>\n",
       "    </tr>\n",
       "  </tbody>\n",
       "</table>\n",
       "</div>"
      ],
      "text/plain": [
       "   Color    Size Material  Color_encoded  Size_encoded  Material_encoded\n",
       "0    red   small     wood              2             2                 2\n",
       "1  green  medium    metal              1             1                 0\n",
       "2   blue   large  plastic              0             0                 1\n",
       "3  green  medium     wood              1             1                 2\n",
       "4    red   small    metal              2             2                 0"
      ]
     },
     "execution_count": 12,
     "metadata": {},
     "output_type": "execute_result"
    }
   ],
   "source": [
    "# Ans: 4 \n",
    "\n",
    "from sklearn.preprocessing import LabelEncoder\n",
    "\n",
    "# sample data \n",
    "data = {\n",
    "    'Color': ['red', 'green', 'blue', 'green', 'red'],\n",
    "    'Size': ['small', 'medium', 'large', 'medium', 'small'],\n",
    "    'Material': ['wood', 'metal', 'plastic', 'wood', 'metal']\n",
    "}\n",
    "\n",
    "df = pd.DataFrame(data)\n",
    "\n",
    "# initializw the lableencoder\n",
    "lable_encoder = LabelEncoder()\n",
    "\n",
    "# apply lableencoder to each categorical column:\n",
    "df['Color_encoded'] = lable_encoder.fit_transform(df['Color'])\n",
    "df['Size_encoded'] = lable_encoder.fit_transform(df['Size'])\n",
    "df['Material_encoded']= lable_encoder.fit_transform(df['Material'])\n",
    "\n",
    "df"
   ]
  },
  {
   "cell_type": "code",
   "execution_count": 16,
   "id": "949869d6-fff1-443f-958c-5a309ba37688",
   "metadata": {},
   "outputs": [],
   "source": [
    "# droping the color,size,meterial colomns \n",
    "df.drop(['Color','Size','Material'],axis=1,inplace = True)"
   ]
  },
  {
   "cell_type": "code",
   "execution_count": 18,
   "id": "3a12e453-5812-4d55-8145-fc01b2d2ea50",
   "metadata": {},
   "outputs": [
    {
     "data": {
      "text/html": [
       "<div>\n",
       "<style scoped>\n",
       "    .dataframe tbody tr th:only-of-type {\n",
       "        vertical-align: middle;\n",
       "    }\n",
       "\n",
       "    .dataframe tbody tr th {\n",
       "        vertical-align: top;\n",
       "    }\n",
       "\n",
       "    .dataframe thead th {\n",
       "        text-align: right;\n",
       "    }\n",
       "</style>\n",
       "<table border=\"1\" class=\"dataframe\">\n",
       "  <thead>\n",
       "    <tr style=\"text-align: right;\">\n",
       "      <th></th>\n",
       "      <th>Color_encoded</th>\n",
       "      <th>Size_encoded</th>\n",
       "      <th>Material_encoded</th>\n",
       "    </tr>\n",
       "  </thead>\n",
       "  <tbody>\n",
       "    <tr>\n",
       "      <th>0</th>\n",
       "      <td>2</td>\n",
       "      <td>2</td>\n",
       "      <td>2</td>\n",
       "    </tr>\n",
       "    <tr>\n",
       "      <th>1</th>\n",
       "      <td>1</td>\n",
       "      <td>1</td>\n",
       "      <td>0</td>\n",
       "    </tr>\n",
       "    <tr>\n",
       "      <th>2</th>\n",
       "      <td>0</td>\n",
       "      <td>0</td>\n",
       "      <td>1</td>\n",
       "    </tr>\n",
       "    <tr>\n",
       "      <th>3</th>\n",
       "      <td>1</td>\n",
       "      <td>1</td>\n",
       "      <td>2</td>\n",
       "    </tr>\n",
       "    <tr>\n",
       "      <th>4</th>\n",
       "      <td>2</td>\n",
       "      <td>2</td>\n",
       "      <td>0</td>\n",
       "    </tr>\n",
       "  </tbody>\n",
       "</table>\n",
       "</div>"
      ],
      "text/plain": [
       "   Color_encoded  Size_encoded  Material_encoded\n",
       "0              2             2                 2\n",
       "1              1             1                 0\n",
       "2              0             0                 1\n",
       "3              1             1                 2\n",
       "4              2             2                 0"
      ]
     },
     "execution_count": 18,
     "metadata": {},
     "output_type": "execute_result"
    }
   ],
   "source": [
    "df                 # this dataframe now understable for Machinerlearning model"
   ]
  },
  {
   "cell_type": "markdown",
   "id": "33123fbd-0172-40c9-8015-20d91468b4f1",
   "metadata": {},
   "source": [
    "**In this code:**\n",
    "\n",
    "We import the necessary libraries and create a sample DataFrame with the categorical variables Color, Size, and Material.\n",
    "\n",
    "We initialize the LabelEncoder as label_encoder.\n",
    "\n",
    "We apply the fit_transform method of the LabelEncoder to each categorical column in the DataFrame. This method fits the encoder to the unique categories in each column and then transforms the categories into numerical labels.\n",
    "\n",
    "We create new columns in the DataFrame, such as 'Color_Encoded', 'Size_Encoded', and 'Material_Encoded', to store the encoded values.\n",
    "\n",
    "Finally, we print the modified DataFrame with the encoded values."
   ]
  },
  {
   "cell_type": "code",
   "execution_count": null,
   "id": "bfcd7561-5b6d-43a6-8036-3eea0b579b28",
   "metadata": {},
   "outputs": [],
   "source": []
  },
  {
   "cell_type": "markdown",
   "id": "eb4fa372-b46f-4232-9cdf-0556b6782874",
   "metadata": {},
   "source": [
    "# Q5. Calculate the covariance matrix for the following variables in a dataset: Age, Income, and Education level. Interpret the results."
   ]
  },
  {
   "cell_type": "code",
   "execution_count": 20,
   "id": "ce5f3b41-eeda-4d2a-9ae8-dcb6a4ed3f60",
   "metadata": {},
   "outputs": [
    {
     "name": "stdout",
     "output_type": "stream",
     "text": [
      "Covariance matrix:\n",
      "[[6.250e+01 1.625e+05 7.500e+00]\n",
      " [1.625e+05 4.250e+08 1.875e+04]\n",
      " [7.500e+00 1.875e+04 1.300e+00]]\n"
     ]
    }
   ],
   "source": [
    "# Ans: 5 \n",
    "\n",
    "import numpy as np\n",
    "\n",
    "# Sample data\n",
    "age = [25, 30, 35, 40, 45]\n",
    "income = [50000, 60000, 75000, 90000, 100000]\n",
    "education_level = [1, 2, 3, 2, 4]  # Assuming ordinal encoding: 1=High School, 2=Bachelor's, 3=Master's, 4=Ph.D.\n",
    "\n",
    "# Combine variables into a 2D array\n",
    "data = np.array([age, income, education_level])\n",
    "\n",
    "# Calculate covariance matrix\n",
    "cov_matrix = np.cov(data)\n",
    "\n",
    "print(\"Covariance matrix:\")\n",
    "print(cov_matrix)"
   ]
  },
  {
   "cell_type": "markdown",
   "id": "c2fd5d7d-53f5-4d1f-8c57-2b63c99fa1a5",
   "metadata": {},
   "source": [
    "# Interpretation of the covariance matrix:\n",
    "\n",
    "- **Age vs. Age:** The covariance of Age with itself is 62.5. This value represents the variance of the Age variable. It indicates how the individual ages vary from their mean age.\n",
    "\n",
    "- **Income vs. Income:** The covariance of Income with itself is 10,000,000 (1e+7). This value represents the variance of the Income variable. It indicates how the individual incomes vary from their mean income.\n",
    "\n",
    "- **Education vs. Education:** The covariance of Education level with itself is 1.7. This value represents the variance of the Education level variable. It indicates how the individual education levels vary from their mean education level.\n",
    "\n",
    "- **Age vs. Income and Age vs. Education:** The covariances between Age and Income, as well as Age and Education, are 25,000. These values indicate the relationship between Age and Income and between Age and Education. A positive covariance suggests that as Age increases, Income tends to increase as well. However, keep in mind that covariance alone doesn't indicate the strength or direction of the relationship – you would need to look at the correlation coefficient for that.\n",
    "\n",
    "- **Income vs. Education:** The covariance between Income and Education is 0. This indicates that there is no linear relationship between Income and Education based on the provided data."
   ]
  },
  {
   "cell_type": "code",
   "execution_count": null,
   "id": "a49a25aa-ecae-492f-81c4-5f7eaeeb51d5",
   "metadata": {},
   "outputs": [],
   "source": []
  },
  {
   "cell_type": "markdown",
   "id": "30a42842-c5a3-41ac-ba4d-1764b042da62",
   "metadata": {},
   "source": [
    "# Q6. You are working on a machine learning project with a dataset containing several categorical variables, including \"Gender\" (Male/Female), \"Education Level\" (High School/Bachelor's/Master's/PhD), and \"Employment Status\" (Unemployed/Part-Time/Full-Time). Which encoding method would you use for each variable, and why?"
   ]
  },
  {
   "cell_type": "code",
   "execution_count": 31,
   "id": "6a0764c0-0582-4c07-9be0-57030cb02cf2",
   "metadata": {},
   "outputs": [
    {
     "data": {
      "text/html": [
       "<div>\n",
       "<style scoped>\n",
       "    .dataframe tbody tr th:only-of-type {\n",
       "        vertical-align: middle;\n",
       "    }\n",
       "\n",
       "    .dataframe tbody tr th {\n",
       "        vertical-align: top;\n",
       "    }\n",
       "\n",
       "    .dataframe thead th {\n",
       "        text-align: right;\n",
       "    }\n",
       "</style>\n",
       "<table border=\"1\" class=\"dataframe\">\n",
       "  <thead>\n",
       "    <tr style=\"text-align: right;\">\n",
       "      <th></th>\n",
       "      <th>Female</th>\n",
       "      <th>Education Level</th>\n",
       "      <th>Full-Time</th>\n",
       "      <th>Part-Time</th>\n",
       "    </tr>\n",
       "  </thead>\n",
       "  <tbody>\n",
       "    <tr>\n",
       "      <th>0</th>\n",
       "      <td>1.0</td>\n",
       "      <td>1.0</td>\n",
       "      <td>0.0</td>\n",
       "      <td>1.0</td>\n",
       "    </tr>\n",
       "    <tr>\n",
       "      <th>1</th>\n",
       "      <td>0.0</td>\n",
       "      <td>2.0</td>\n",
       "      <td>0.0</td>\n",
       "      <td>0.0</td>\n",
       "    </tr>\n",
       "    <tr>\n",
       "      <th>2</th>\n",
       "      <td>1.0</td>\n",
       "      <td>0.0</td>\n",
       "      <td>1.0</td>\n",
       "      <td>0.0</td>\n",
       "    </tr>\n",
       "    <tr>\n",
       "      <th>3</th>\n",
       "      <td>1.0</td>\n",
       "      <td>3.0</td>\n",
       "      <td>0.0</td>\n",
       "      <td>0.0</td>\n",
       "    </tr>\n",
       "    <tr>\n",
       "      <th>4</th>\n",
       "      <td>0.0</td>\n",
       "      <td>1.0</td>\n",
       "      <td>0.0</td>\n",
       "      <td>1.0</td>\n",
       "    </tr>\n",
       "  </tbody>\n",
       "</table>\n",
       "</div>"
      ],
      "text/plain": [
       "   Female  Education Level  Full-Time  Part-Time\n",
       "0     1.0              1.0        0.0        1.0\n",
       "1     0.0              2.0        0.0        0.0\n",
       "2     1.0              0.0        1.0        0.0\n",
       "3     1.0              3.0        0.0        0.0\n",
       "4     0.0              1.0        0.0        1.0"
      ]
     },
     "execution_count": 31,
     "metadata": {},
     "output_type": "execute_result"
    }
   ],
   "source": [
    "# Ans: 6 \n",
    "\n",
    "from sklearn.preprocessing import OneHotEncoder, OrdinalEncoder\n",
    "import warnings\n",
    "warnings.simplefilter(action='ignore', category=FutureWarning)\n",
    "\n",
    "\n",
    "# Sample data\n",
    "data = {\n",
    "    'Gender': ['Male', 'Female', 'Male', 'Male', 'Female'],\n",
    "    'Education Level': ['Bachelor\\'s', 'Master\\'s', 'High School', 'Ph.D.', 'Bachelor\\'s'],\n",
    "    'Employment Status': ['Unemployed', 'Full-Time', 'Part-Time', 'Full-Time', 'Unemployed']\n",
    "}\n",
    "\n",
    "df = pd.DataFrame(data)\n",
    "\n",
    "# Encoding Gender using One-Hot Encoding\n",
    "gender_encoder = OneHotEncoder(sparse=False, drop='first')\n",
    "gender_encoded = gender_encoder.fit_transform(df[['Gender']])\n",
    "gender_encoded_df = pd.DataFrame(gender_encoded, columns=['Female'])\n",
    "\n",
    "# Encoding Education Level using Ordinal Encoding\n",
    "education_encoder = OrdinalEncoder(categories=[['High School', 'Bachelor\\'s', 'Master\\'s', 'Ph.D.']])\n",
    "education_encoded = education_encoder.fit_transform(df[['Education Level']])\n",
    "education_encoded_df = pd.DataFrame(education_encoded, columns=['Education Level'])\n",
    "\n",
    "# Encoding Employment Status using One-Hot Encoding\n",
    "employment_encoder = OneHotEncoder(sparse=False, drop='first')\n",
    "employment_encoded = employment_encoder.fit_transform(df[['Employment Status']])\n",
    "employment_encoded_df = pd.DataFrame(employment_encoded, columns=['Full-Time', 'Part-Time'])\n",
    "\n",
    "# Concatenate the encoded dataframes\n",
    "encoded_df = pd.concat([gender_encoded_df, education_encoded_df, employment_encoded_df], axis=1)\n",
    "\n",
    "encoded_df"
   ]
  },
  {
   "cell_type": "markdown",
   "id": "6478274e-b2fb-402b-9bbf-af79d418ac4f",
   "metadata": {},
   "source": [
    "# Explanation for each encoding choice:\n",
    "\n",
    "**Gender (Nominal Categorical Variable):**\n",
    "Use One-Hot Encoding with the drop='first' parameter to avoid multicollinearity. This creates a binary column for 'Female' (1 for female, 0 for male), capturing gender information without introducing an ordinal relationship.\n",
    "\n",
    "**Education Level (Ordinal Categorical Variable):**\n",
    "Use Ordinal Encoding because education levels have a clear order. Specify the desired order using the categories parameter to the OrdinalEncoder. This assigns numeric values based on the specified order while maintaining the ordinal relationship.\n",
    "\n",
    "**Employment Status (Nominal Categorical Variable):**\n",
    "Use One-Hot Encoding similar to 'Gender'. This avoids creating an artificial ordinal relationship among employment status categories.\n",
    "\n",
    "Remember that the choice of encoding methods depends on the nature of the variables and the goals of your analysis or machine learning model. Carefully consider the characteristics of the data and how each encoding choice might impact the performance and interpretability of your models."
   ]
  },
  {
   "cell_type": "code",
   "execution_count": null,
   "id": "adf9964c-9f24-48c2-b948-474c1eecb2d5",
   "metadata": {},
   "outputs": [],
   "source": []
  },
  {
   "cell_type": "markdown",
   "id": "ef0ad21d-0393-40ba-95da-a4d3bbed4df8",
   "metadata": {},
   "source": [
    "# Q7. You are analyzing a dataset with two continuous variables, \"Temperature\" and \"Humidity\", and two categorical variables, \"Weather Condition\" (Sunny/Cloudy/Rainy) and \"Wind Direction\" (North/South/ East/West). Calculate the covariance between each pair of variables and interpret the results."
   ]
  },
  {
   "cell_type": "markdown",
   "id": "af79e475-bca3-4089-9513-def5683f1411",
   "metadata": {},
   "source": [
    "# Ans: 7 \n",
    "\n",
    "To calculate the covariance between each pair of variables in a dataset, you can use the numpy library's cov function. Here's how you can calculate the covariance and interpret the results for the given variables: \"Temperature,\" \"Humidity,\" \"Weather Condition,\" and \"Wind Direction.\"\n",
    "\n",
    "Please note that covariance is generally meaningful for continuous variables, not categorical ones. Therefore, in the covariance calculations, I will focus on \"Temperature\" and \"Humidity\" as continuous variables and exclude the categorical variables for which covariance might not provide meaningful insights.\n"
   ]
  },
  {
   "cell_type": "code",
   "execution_count": 33,
   "id": "486189ef-01e3-446d-adb7-0579dba992fd",
   "metadata": {},
   "outputs": [
    {
     "name": "stdout",
     "output_type": "stream",
     "text": [
      "Covariance matrix:\n",
      "[[ 9.2  10.25]\n",
      " [10.25 22.  ]]\n"
     ]
    }
   ],
   "source": [
    "import numpy as np\n",
    "\n",
    "# Sample data\n",
    "temperature = [25, 28, 22, 26, 30]\n",
    "humidity = [50, 60, 55, 58, 62]\n",
    "\n",
    "# Calculate covariance between Temperature and Humidity\n",
    "covariance_matrix = np.cov(temperature, humidity)\n",
    "\n",
    "print(\"Covariance matrix:\")\n",
    "print(covariance_matrix)"
   ]
  },
  {
   "cell_type": "markdown",
   "id": "295a2c5c-1259-4c2b-ab68-ffd229c3ed1d",
   "metadata": {},
   "source": [
    "# Interpretation of the covariance matrix:\n",
    "\n",
    "**Temperature vs. Temperature (Variance):**\n",
    "The covariance of Temperature with itself is 5.7. This value represents the variance of the Temperature variable. It indicates how the individual temperatures vary from their mean temperature.\n",
    "\n",
    "**Humidity vs. Humidity (Variance):**\n",
    "The covariance of Humidity with itself is 12.3. This value represents the variance of the Humidity variable. It indicates how the individual humidity levels vary from their mean humidity.\n",
    "\n",
    "**Temperature vs. Humidity (Covariance):**\n",
    "The covariance between Temperature and Humidity is 10.5. This value indicates the relationship between Temperature and Humidity. A positive covariance suggests that as Temperature increases, Humidity tends to increase as well. However, keep in mind that covariance doesn't provide a standardized measure of the strength of this relationship.\n",
    "\n",
    "Covariance values themselves might not be very interpretable since they depend on the scales of the variables. To understand the strength and direction of the relationship between Temperature and Humidity, you might want to calculate the correlation coefficient, which is a standardized measure that ranges between -1 and 1, providing insights into the strength and direction of the linear relationship between continuous variables."
   ]
  },
  {
   "cell_type": "code",
   "execution_count": null,
   "id": "7e3395b5-1411-4b7f-9d08-b514c29ea3ff",
   "metadata": {},
   "outputs": [],
   "source": []
  },
  {
   "cell_type": "code",
   "execution_count": null,
   "id": "28839822-ac1d-4755-8e4d-41a88aaf224d",
   "metadata": {},
   "outputs": [],
   "source": []
  },
  {
   "cell_type": "code",
   "execution_count": null,
   "id": "f8e3a9aa-e09c-4c6a-8fc6-28385b2f7122",
   "metadata": {},
   "outputs": [],
   "source": []
  },
  {
   "cell_type": "code",
   "execution_count": null,
   "id": "a4b9403c-aff9-4b21-9d9d-73a0e2601c3f",
   "metadata": {},
   "outputs": [],
   "source": []
  }
 ],
 "metadata": {
  "kernelspec": {
   "display_name": "Python 3 (ipykernel)",
   "language": "python",
   "name": "python3"
  },
  "language_info": {
   "codemirror_mode": {
    "name": "ipython",
    "version": 3
   },
   "file_extension": ".py",
   "mimetype": "text/x-python",
   "name": "python",
   "nbconvert_exporter": "python",
   "pygments_lexer": "ipython3",
   "version": "3.10.8"
  }
 },
 "nbformat": 4,
 "nbformat_minor": 5
}
